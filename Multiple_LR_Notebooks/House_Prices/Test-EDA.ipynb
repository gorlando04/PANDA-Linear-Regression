{
 "cells": [
  {
   "cell_type": "markdown",
   "id": "d7b1a9c4-5e89-438a-a3d3-8046057ad993",
   "metadata": {
    "tags": []
   },
   "source": [
    "## Análise do dataset"
   ]
  },
  {
   "cell_type": "markdown",
   "id": "4b4cc8d2-7e65-4b06-b133-961e618556cc",
   "metadata": {},
   "source": [
    "Neste notebook iremos apenas analisar como os dados estão distribuidos, com visualizações e verificações de inconsistências, além de fazer sugestões para lidar com os diferentes tipos de dados, e também como iremos enfrentar os dados faltantes.\n",
    "\n",
    "Assim, aqui não será realizado nenhuma técnica de pré-processamento de fato, isto será feito no próximo notebook, este notebook tem o único intuito de analisar os atributos, verificar seus tipos e valores."
   ]
  },
  {
   "cell_type": "code",
   "execution_count": 1,
   "id": "d72ef7b0-cab8-49e0-b66b-df0a400e31b2",
   "metadata": {},
   "outputs": [],
   "source": [
    "import pandas as pd\n",
    "import numpy as np\n",
    "import seaborn as sns\n",
    "import matplotlib.pyplot as plt"
   ]
  },
  {
   "cell_type": "code",
   "execution_count": 2,
   "id": "bfe40679-d8d0-47c5-bf50-38fb67de711f",
   "metadata": {},
   "outputs": [
    {
     "data": {
      "text/html": [
       "<div>\n",
       "<style scoped>\n",
       "    .dataframe tbody tr th:only-of-type {\n",
       "        vertical-align: middle;\n",
       "    }\n",
       "\n",
       "    .dataframe tbody tr th {\n",
       "        vertical-align: top;\n",
       "    }\n",
       "\n",
       "    .dataframe thead th {\n",
       "        text-align: right;\n",
       "    }\n",
       "</style>\n",
       "<table border=\"1\" class=\"dataframe\">\n",
       "  <thead>\n",
       "    <tr style=\"text-align: right;\">\n",
       "      <th></th>\n",
       "      <th>Id</th>\n",
       "      <th>MSSubClass</th>\n",
       "      <th>MSZoning</th>\n",
       "      <th>LotFrontage</th>\n",
       "      <th>LotArea</th>\n",
       "      <th>Street</th>\n",
       "      <th>Alley</th>\n",
       "      <th>LotShape</th>\n",
       "      <th>LandContour</th>\n",
       "      <th>Utilities</th>\n",
       "      <th>...</th>\n",
       "      <th>ScreenPorch</th>\n",
       "      <th>PoolArea</th>\n",
       "      <th>PoolQC</th>\n",
       "      <th>Fence</th>\n",
       "      <th>MiscFeature</th>\n",
       "      <th>MiscVal</th>\n",
       "      <th>MoSold</th>\n",
       "      <th>YrSold</th>\n",
       "      <th>SaleType</th>\n",
       "      <th>SaleCondition</th>\n",
       "    </tr>\n",
       "  </thead>\n",
       "  <tbody>\n",
       "    <tr>\n",
       "      <th>0</th>\n",
       "      <td>1461</td>\n",
       "      <td>20</td>\n",
       "      <td>RH</td>\n",
       "      <td>80.0</td>\n",
       "      <td>11622</td>\n",
       "      <td>Pave</td>\n",
       "      <td>NaN</td>\n",
       "      <td>Reg</td>\n",
       "      <td>Lvl</td>\n",
       "      <td>AllPub</td>\n",
       "      <td>...</td>\n",
       "      <td>120</td>\n",
       "      <td>0</td>\n",
       "      <td>NaN</td>\n",
       "      <td>MnPrv</td>\n",
       "      <td>NaN</td>\n",
       "      <td>0</td>\n",
       "      <td>6</td>\n",
       "      <td>2010</td>\n",
       "      <td>WD</td>\n",
       "      <td>Normal</td>\n",
       "    </tr>\n",
       "    <tr>\n",
       "      <th>1</th>\n",
       "      <td>1462</td>\n",
       "      <td>20</td>\n",
       "      <td>RL</td>\n",
       "      <td>81.0</td>\n",
       "      <td>14267</td>\n",
       "      <td>Pave</td>\n",
       "      <td>NaN</td>\n",
       "      <td>IR1</td>\n",
       "      <td>Lvl</td>\n",
       "      <td>AllPub</td>\n",
       "      <td>...</td>\n",
       "      <td>0</td>\n",
       "      <td>0</td>\n",
       "      <td>NaN</td>\n",
       "      <td>NaN</td>\n",
       "      <td>Gar2</td>\n",
       "      <td>12500</td>\n",
       "      <td>6</td>\n",
       "      <td>2010</td>\n",
       "      <td>WD</td>\n",
       "      <td>Normal</td>\n",
       "    </tr>\n",
       "    <tr>\n",
       "      <th>2</th>\n",
       "      <td>1463</td>\n",
       "      <td>60</td>\n",
       "      <td>RL</td>\n",
       "      <td>74.0</td>\n",
       "      <td>13830</td>\n",
       "      <td>Pave</td>\n",
       "      <td>NaN</td>\n",
       "      <td>IR1</td>\n",
       "      <td>Lvl</td>\n",
       "      <td>AllPub</td>\n",
       "      <td>...</td>\n",
       "      <td>0</td>\n",
       "      <td>0</td>\n",
       "      <td>NaN</td>\n",
       "      <td>MnPrv</td>\n",
       "      <td>NaN</td>\n",
       "      <td>0</td>\n",
       "      <td>3</td>\n",
       "      <td>2010</td>\n",
       "      <td>WD</td>\n",
       "      <td>Normal</td>\n",
       "    </tr>\n",
       "    <tr>\n",
       "      <th>3</th>\n",
       "      <td>1464</td>\n",
       "      <td>60</td>\n",
       "      <td>RL</td>\n",
       "      <td>78.0</td>\n",
       "      <td>9978</td>\n",
       "      <td>Pave</td>\n",
       "      <td>NaN</td>\n",
       "      <td>IR1</td>\n",
       "      <td>Lvl</td>\n",
       "      <td>AllPub</td>\n",
       "      <td>...</td>\n",
       "      <td>0</td>\n",
       "      <td>0</td>\n",
       "      <td>NaN</td>\n",
       "      <td>NaN</td>\n",
       "      <td>NaN</td>\n",
       "      <td>0</td>\n",
       "      <td>6</td>\n",
       "      <td>2010</td>\n",
       "      <td>WD</td>\n",
       "      <td>Normal</td>\n",
       "    </tr>\n",
       "    <tr>\n",
       "      <th>4</th>\n",
       "      <td>1465</td>\n",
       "      <td>120</td>\n",
       "      <td>RL</td>\n",
       "      <td>43.0</td>\n",
       "      <td>5005</td>\n",
       "      <td>Pave</td>\n",
       "      <td>NaN</td>\n",
       "      <td>IR1</td>\n",
       "      <td>HLS</td>\n",
       "      <td>AllPub</td>\n",
       "      <td>...</td>\n",
       "      <td>144</td>\n",
       "      <td>0</td>\n",
       "      <td>NaN</td>\n",
       "      <td>NaN</td>\n",
       "      <td>NaN</td>\n",
       "      <td>0</td>\n",
       "      <td>1</td>\n",
       "      <td>2010</td>\n",
       "      <td>WD</td>\n",
       "      <td>Normal</td>\n",
       "    </tr>\n",
       "  </tbody>\n",
       "</table>\n",
       "<p>5 rows × 80 columns</p>\n",
       "</div>"
      ],
      "text/plain": [
       "     Id  MSSubClass MSZoning  LotFrontage  LotArea Street Alley LotShape  \\\n",
       "0  1461          20       RH         80.0    11622   Pave   NaN      Reg   \n",
       "1  1462          20       RL         81.0    14267   Pave   NaN      IR1   \n",
       "2  1463          60       RL         74.0    13830   Pave   NaN      IR1   \n",
       "3  1464          60       RL         78.0     9978   Pave   NaN      IR1   \n",
       "4  1465         120       RL         43.0     5005   Pave   NaN      IR1   \n",
       "\n",
       "  LandContour Utilities  ... ScreenPorch PoolArea PoolQC  Fence MiscFeature  \\\n",
       "0         Lvl    AllPub  ...         120        0    NaN  MnPrv         NaN   \n",
       "1         Lvl    AllPub  ...           0        0    NaN    NaN        Gar2   \n",
       "2         Lvl    AllPub  ...           0        0    NaN  MnPrv         NaN   \n",
       "3         Lvl    AllPub  ...           0        0    NaN    NaN         NaN   \n",
       "4         HLS    AllPub  ...         144        0    NaN    NaN         NaN   \n",
       "\n",
       "  MiscVal MoSold  YrSold  SaleType  SaleCondition  \n",
       "0       0      6    2010        WD         Normal  \n",
       "1   12500      6    2010        WD         Normal  \n",
       "2       0      3    2010        WD         Normal  \n",
       "3       0      6    2010        WD         Normal  \n",
       "4       0      1    2010        WD         Normal  \n",
       "\n",
       "[5 rows x 80 columns]"
      ]
     },
     "execution_count": 2,
     "metadata": {},
     "output_type": "execute_result"
    }
   ],
   "source": [
    "# Lendo o conjunto de dados\n",
    "\n",
    "df = pd.read_csv(\"test.csv\")\n",
    "\n",
    "#Exibindo o cabeçalho do conjunto de dados\n",
    "df.head(5)"
   ]
  },
  {
   "cell_type": "code",
   "execution_count": 3,
   "id": "bf2a08e7-c215-4d7a-9e95-cea32b10aa82",
   "metadata": {},
   "outputs": [
    {
     "data": {
      "text/plain": [
       "(1459, 80)"
      ]
     },
     "execution_count": 3,
     "metadata": {},
     "output_type": "execute_result"
    }
   ],
   "source": [
    "# Tamanho do conjunto de dados\n",
    "df.shape"
   ]
  },
  {
   "cell_type": "markdown",
   "id": "bfbb7ae0-6137-4080-939b-e6e081db804f",
   "metadata": {},
   "source": [
    "Podemos compreender que termos muitos atributos para poder lidar durante a nossa análise exploratória, e como podemos ver existem diversos valores NULOS que devem ser tratados, além obviamente de tratar os atributos categóricos, que devem ser transformados para numérico, mas isto deve ser feito com cuidado, já que caso usemos One-Hot-Encoding, podemos ter um número de atributos preditivos muito grande, o que pode atrapalhar o modelo de regressão."
   ]
  },
  {
   "cell_type": "code",
   "execution_count": 4,
   "id": "07be791b-6167-4013-8f11-e847f869ad71",
   "metadata": {
    "tags": []
   },
   "outputs": [
    {
     "name": "stdout",
     "output_type": "stream",
     "text": [
      "<class 'pandas.core.frame.DataFrame'>\n",
      "RangeIndex: 1459 entries, 0 to 1458\n",
      "Data columns (total 80 columns):\n",
      " #   Column         Non-Null Count  Dtype  \n",
      "---  ------         --------------  -----  \n",
      " 0   Id             1459 non-null   int64  \n",
      " 1   MSSubClass     1459 non-null   int64  \n",
      " 2   MSZoning       1455 non-null   object \n",
      " 3   LotFrontage    1232 non-null   float64\n",
      " 4   LotArea        1459 non-null   int64  \n",
      " 5   Street         1459 non-null   object \n",
      " 6   Alley          107 non-null    object \n",
      " 7   LotShape       1459 non-null   object \n",
      " 8   LandContour    1459 non-null   object \n",
      " 9   Utilities      1457 non-null   object \n",
      " 10  LotConfig      1459 non-null   object \n",
      " 11  LandSlope      1459 non-null   object \n",
      " 12  Neighborhood   1459 non-null   object \n",
      " 13  Condition1     1459 non-null   object \n",
      " 14  Condition2     1459 non-null   object \n",
      " 15  BldgType       1459 non-null   object \n",
      " 16  HouseStyle     1459 non-null   object \n",
      " 17  OverallQual    1459 non-null   int64  \n",
      " 18  OverallCond    1459 non-null   int64  \n",
      " 19  YearBuilt      1459 non-null   int64  \n",
      " 20  YearRemodAdd   1459 non-null   int64  \n",
      " 21  RoofStyle      1459 non-null   object \n",
      " 22  RoofMatl       1459 non-null   object \n",
      " 23  Exterior1st    1458 non-null   object \n",
      " 24  Exterior2nd    1458 non-null   object \n",
      " 25  MasVnrType     1443 non-null   object \n",
      " 26  MasVnrArea     1444 non-null   float64\n",
      " 27  ExterQual      1459 non-null   object \n",
      " 28  ExterCond      1459 non-null   object \n",
      " 29  Foundation     1459 non-null   object \n",
      " 30  BsmtQual       1415 non-null   object \n",
      " 31  BsmtCond       1414 non-null   object \n",
      " 32  BsmtExposure   1415 non-null   object \n",
      " 33  BsmtFinType1   1417 non-null   object \n",
      " 34  BsmtFinSF1     1458 non-null   float64\n",
      " 35  BsmtFinType2   1417 non-null   object \n",
      " 36  BsmtFinSF2     1458 non-null   float64\n",
      " 37  BsmtUnfSF      1458 non-null   float64\n",
      " 38  TotalBsmtSF    1458 non-null   float64\n",
      " 39  Heating        1459 non-null   object \n",
      " 40  HeatingQC      1459 non-null   object \n",
      " 41  CentralAir     1459 non-null   object \n",
      " 42  Electrical     1459 non-null   object \n",
      " 43  1stFlrSF       1459 non-null   int64  \n",
      " 44  2ndFlrSF       1459 non-null   int64  \n",
      " 45  LowQualFinSF   1459 non-null   int64  \n",
      " 46  GrLivArea      1459 non-null   int64  \n",
      " 47  BsmtFullBath   1457 non-null   float64\n",
      " 48  BsmtHalfBath   1457 non-null   float64\n",
      " 49  FullBath       1459 non-null   int64  \n",
      " 50  HalfBath       1459 non-null   int64  \n",
      " 51  BedroomAbvGr   1459 non-null   int64  \n",
      " 52  KitchenAbvGr   1459 non-null   int64  \n",
      " 53  KitchenQual    1458 non-null   object \n",
      " 54  TotRmsAbvGrd   1459 non-null   int64  \n",
      " 55  Functional     1457 non-null   object \n",
      " 56  Fireplaces     1459 non-null   int64  \n",
      " 57  FireplaceQu    729 non-null    object \n",
      " 58  GarageType     1383 non-null   object \n",
      " 59  GarageYrBlt    1381 non-null   float64\n",
      " 60  GarageFinish   1381 non-null   object \n",
      " 61  GarageCars     1458 non-null   float64\n",
      " 62  GarageArea     1458 non-null   float64\n",
      " 63  GarageQual     1381 non-null   object \n",
      " 64  GarageCond     1381 non-null   object \n",
      " 65  PavedDrive     1459 non-null   object \n",
      " 66  WoodDeckSF     1459 non-null   int64  \n",
      " 67  OpenPorchSF    1459 non-null   int64  \n",
      " 68  EnclosedPorch  1459 non-null   int64  \n",
      " 69  3SsnPorch      1459 non-null   int64  \n",
      " 70  ScreenPorch    1459 non-null   int64  \n",
      " 71  PoolArea       1459 non-null   int64  \n",
      " 72  PoolQC         3 non-null      object \n",
      " 73  Fence          290 non-null    object \n",
      " 74  MiscFeature    51 non-null     object \n",
      " 75  MiscVal        1459 non-null   int64  \n",
      " 76  MoSold         1459 non-null   int64  \n",
      " 77  YrSold         1459 non-null   int64  \n",
      " 78  SaleType       1458 non-null   object \n",
      " 79  SaleCondition  1459 non-null   object \n",
      "dtypes: float64(11), int64(26), object(43)\n",
      "memory usage: 912.0+ KB\n"
     ]
    }
   ],
   "source": [
    "# Verificando os tipos de atributo\n",
    "df.info()"
   ]
  },
  {
   "cell_type": "markdown",
   "id": "8e025128-b71f-46fa-a382-368e272d8ea9",
   "metadata": {},
   "source": [
    "Temos 38 atributos numéricos e 43 atributos categóricos. Logo teremos bastante trabalho pela frente. Além disso podemos perceber que existem diversos valores nulos"
   ]
  },
  {
   "cell_type": "code",
   "execution_count": 5,
   "id": "bf8e1ef3-a794-49fd-b5d3-1e7b472773ae",
   "metadata": {},
   "outputs": [
    {
     "data": {
      "text/plain": [
       "PoolQC          1456\n",
       "MiscFeature     1408\n",
       "Alley           1352\n",
       "Fence           1169\n",
       "FireplaceQu      730\n",
       "LotFrontage      227\n",
       "GarageYrBlt       78\n",
       "GarageQual        78\n",
       "GarageFinish      78\n",
       "GarageCond        78\n",
       "GarageType        76\n",
       "BsmtCond          45\n",
       "BsmtQual          44\n",
       "BsmtExposure      44\n",
       "BsmtFinType1      42\n",
       "BsmtFinType2      42\n",
       "MasVnrType        16\n",
       "MasVnrArea        15\n",
       "MSZoning           4\n",
       "BsmtHalfBath       2\n",
       "dtype: int64"
      ]
     },
     "execution_count": 5,
     "metadata": {},
     "output_type": "execute_result"
    }
   ],
   "source": [
    "df.isna().sum().sort_values(ascending=False)[:20]"
   ]
  },
  {
   "cell_type": "markdown",
   "id": "f201f686-2e22-47b8-aae9-6777a9b9f45e",
   "metadata": {},
   "source": [
    "Podemos perceber acima, que , como temos 1460 linhas, existem alguns atributos que contém a maioria dos valores NULOS, o que é muito problemático. Assim, é extremamente necessário tratar valores NULOS"
   ]
  },
  {
   "cell_type": "code",
   "execution_count": 6,
   "id": "4b09bea6-e567-4f4b-82bb-2ae072727bbc",
   "metadata": {},
   "outputs": [
    {
     "data": {
      "text/plain": [
       "Index(['Id', 'MSSubClass', 'MSZoning', 'LotFrontage', 'LotArea', 'Street',\n",
       "       'Alley', 'LotShape', 'LandContour', 'Utilities', 'LotConfig',\n",
       "       'LandSlope', 'Neighborhood', 'Condition1', 'Condition2', 'BldgType',\n",
       "       'HouseStyle', 'OverallQual', 'OverallCond', 'YearBuilt', 'YearRemodAdd',\n",
       "       'RoofStyle', 'RoofMatl', 'Exterior1st', 'Exterior2nd', 'MasVnrType',\n",
       "       'MasVnrArea', 'ExterQual', 'ExterCond', 'Foundation', 'BsmtQual',\n",
       "       'BsmtCond', 'BsmtExposure', 'BsmtFinType1', 'BsmtFinSF1',\n",
       "       'BsmtFinType2', 'BsmtFinSF2', 'BsmtUnfSF', 'TotalBsmtSF', 'Heating',\n",
       "       'HeatingQC', 'CentralAir', 'Electrical', '1stFlrSF', '2ndFlrSF',\n",
       "       'LowQualFinSF', 'GrLivArea', 'BsmtFullBath', 'BsmtHalfBath', 'FullBath',\n",
       "       'HalfBath', 'BedroomAbvGr', 'KitchenAbvGr', 'KitchenQual',\n",
       "       'TotRmsAbvGrd', 'Functional', 'Fireplaces', 'FireplaceQu', 'GarageType',\n",
       "       'GarageYrBlt', 'GarageFinish', 'GarageCars', 'GarageArea', 'GarageQual',\n",
       "       'GarageCond', 'PavedDrive', 'WoodDeckSF', 'OpenPorchSF',\n",
       "       'EnclosedPorch', '3SsnPorch', 'ScreenPorch', 'PoolArea', 'PoolQC',\n",
       "       'Fence', 'MiscFeature', 'MiscVal', 'MoSold', 'YrSold', 'SaleType',\n",
       "       'SaleCondition'],\n",
       "      dtype='object')"
      ]
     },
     "execution_count": 6,
     "metadata": {},
     "output_type": "execute_result"
    }
   ],
   "source": [
    "df.columns"
   ]
  },
  {
   "cell_type": "markdown",
   "id": "6df5af24-2ce2-49ff-9236-3e918f31453d",
   "metadata": {},
   "source": [
    "## Pré-Processamento"
   ]
  },
  {
   "cell_type": "markdown",
   "id": "f73c8b06-4c4a-4b69-bce5-a0332dd4433c",
   "metadata": {},
   "source": [
    "Abaixo iremos tratar os valores NULOS e as incoêrencias do dataset"
   ]
  },
  {
   "cell_type": "markdown",
   "id": "ab2992d0-0a0b-4fd7-972c-bd3e2b2bc22a",
   "metadata": {},
   "source": [
    "### Tratando valores NULOS e Categóricos ORDINAIS"
   ]
  },
  {
   "cell_type": "code",
   "execution_count": 7,
   "id": "4a91b4cf-2e65-46f2-8408-8ca16031bade",
   "metadata": {},
   "outputs": [
    {
     "data": {
      "text/plain": [
       "Index(['Id', 'MSSubClass', 'MSZoning', 'LotFrontage', 'LotArea', 'Street',\n",
       "       'Alley', 'LotShape', 'LandContour', 'Utilities', 'LotConfig',\n",
       "       'LandSlope', 'Neighborhood', 'Condition1', 'Condition2', 'BldgType',\n",
       "       'HouseStyle', 'OverallQual', 'OverallCond', 'YearBuilt', 'YearRemodAdd',\n",
       "       'RoofStyle', 'RoofMatl', 'Exterior1st', 'Exterior2nd', 'MasVnrType',\n",
       "       'MasVnrArea', 'ExterQual', 'ExterCond', 'Foundation', 'BsmtQual',\n",
       "       'BsmtCond', 'BsmtExposure', 'BsmtFinType1', 'BsmtFinSF1',\n",
       "       'BsmtFinType2', 'BsmtFinSF2', 'BsmtUnfSF', 'TotalBsmtSF', 'Heating',\n",
       "       'HeatingQC', 'CentralAir', 'Electrical', '1stFlrSF', '2ndFlrSF',\n",
       "       'LowQualFinSF', 'GrLivArea', 'BsmtFullBath', 'BsmtHalfBath', 'FullBath',\n",
       "       'HalfBath', 'BedroomAbvGr', 'KitchenAbvGr', 'KitchenQual',\n",
       "       'TotRmsAbvGrd', 'Functional', 'Fireplaces', 'FireplaceQu', 'GarageType',\n",
       "       'GarageYrBlt', 'GarageFinish', 'GarageCars', 'GarageArea', 'GarageQual',\n",
       "       'GarageCond', 'PavedDrive', 'WoodDeckSF', 'OpenPorchSF',\n",
       "       'EnclosedPorch', '3SsnPorch', 'ScreenPorch', 'PoolArea', 'PoolQC',\n",
       "       'Fence', 'MiscFeature', 'MiscVal', 'MoSold', 'YrSold', 'SaleType',\n",
       "       'SaleCondition'],\n",
       "      dtype='object')"
      ]
     },
     "execution_count": 7,
     "metadata": {},
     "output_type": "execute_result"
    }
   ],
   "source": [
    "df.columns"
   ]
  },
  {
   "cell_type": "code",
   "execution_count": 8,
   "id": "152f645b-2f8d-43d6-94eb-4a393584c3e2",
   "metadata": {},
   "outputs": [],
   "source": [
    "# Remover o atributo ID\n",
    "\n",
    "df.drop('Id',axis=1,inplace=True)"
   ]
  },
  {
   "cell_type": "code",
   "execution_count": 9,
   "id": "b0b9962a-479c-4070-a62f-25821a890c71",
   "metadata": {},
   "outputs": [],
   "source": [
    "# Mapear atributo \"Street\" para binário\n",
    "df['Street'] =  df['Street'].map({'Pave': 1, 'Grvl': 0})"
   ]
  },
  {
   "cell_type": "code",
   "execution_count": 10,
   "id": "ea575959-8a20-4265-a161-a2dbf04cc853",
   "metadata": {},
   "outputs": [],
   "source": [
    "# Remover o atributo Alley\n",
    "df.drop('Alley',axis=1,inplace=True)"
   ]
  },
  {
   "cell_type": "code",
   "execution_count": 11,
   "id": "86e82bc0-a2e1-4f95-b865-72efa25957b8",
   "metadata": {},
   "outputs": [],
   "source": [
    "# Utilizar lable encoder (Categórico Ordinal)\n",
    "df['LotShape'] =  df['LotShape'].map({'Reg': 3, 'IR1':2, 'IR2':1, 'IR3':0 })"
   ]
  },
  {
   "cell_type": "code",
   "execution_count": 43,
   "id": "72ffc0d6-072e-4103-9f86-d3991db88271",
   "metadata": {},
   "outputs": [],
   "source": [
    "# Utilizar label encoder (Categórico Ordinal)\n",
    "df['Utilities'] =  df['Utilities'].map({'AllPub': 3, 'NoSewr':2, 'NoSeWa':1, 'ELO':0 })\n",
    "df.Utilities.fillna(value=0,inplace=True)\n"
   ]
  },
  {
   "cell_type": "code",
   "execution_count": 13,
   "id": "1bc4f1fb-1547-41b8-a815-eccbbe805d08",
   "metadata": {},
   "outputs": [],
   "source": [
    "# Utilizar label encoder (Categórico Ordinal)\n",
    "df['LandSlope'] =  df['LandSlope'].map({'Gtl': 2, 'Mod':1, 'Sev':0})"
   ]
  },
  {
   "cell_type": "code",
   "execution_count": 14,
   "id": "95a5f8f7-3e77-41be-85f4-93b3b5997745",
   "metadata": {},
   "outputs": [],
   "source": [
    "# Utilizar label encoder (Categórico Ordinal)\n",
    "df['ExterQual'] =  df['ExterQual'].map({'Ex': 4, 'Gd':3, 'TA':2, 'Fa':1,'Po':0})"
   ]
  },
  {
   "cell_type": "code",
   "execution_count": 15,
   "id": "aee80f92-c0e5-4f20-9b9c-1b3d8198d83d",
   "metadata": {},
   "outputs": [],
   "source": [
    "# Utilizar label encoder (Categórico Ordinal)\n",
    "df['ExterCond'] =  df['ExterCond'].map({'Ex': 4, 'Gd':3, 'TA':2, 'Fa':1,'Po':0})"
   ]
  },
  {
   "cell_type": "code",
   "execution_count": 16,
   "id": "67fd6bf2-2fc5-4a37-a230-7ebf55318254",
   "metadata": {},
   "outputs": [
    {
     "data": {
      "text/plain": [
       "0"
      ]
     },
     "execution_count": 16,
     "metadata": {},
     "output_type": "execute_result"
    }
   ],
   "source": [
    "# Utilizar label encoder (Categórico Ordinal)\n",
    "df['BsmtQual'] =  df['BsmtQual'].map({'Ex': 5, 'Gd':4, 'TA':3, 'Fa':2,'Po':1})\n",
    "df.BsmtQual.fillna(value=0,inplace=True)\n",
    "df['BsmtQual'].isna().sum()"
   ]
  },
  {
   "cell_type": "code",
   "execution_count": 17,
   "id": "fd105475-82a6-4285-b986-1d0ff6a74325",
   "metadata": {},
   "outputs": [
    {
     "data": {
      "text/plain": [
       "0"
      ]
     },
     "execution_count": 17,
     "metadata": {},
     "output_type": "execute_result"
    }
   ],
   "source": [
    "# Utilizar label encoder (Categórico Ordinal)\n",
    "df['BsmtCond'] =  df['BsmtCond'].map({'Ex': 5, 'Gd':4, 'TA':3, 'Fa':2,'Po':1})\n",
    "df.BsmtCond.fillna(value=0,inplace=True)\n",
    "df['BsmtCond'].isna().sum()"
   ]
  },
  {
   "cell_type": "code",
   "execution_count": 18,
   "id": "61cbfbaf-b5c9-4632-8292-6ed2beac4c83",
   "metadata": {},
   "outputs": [
    {
     "data": {
      "text/plain": [
       "0"
      ]
     },
     "execution_count": 18,
     "metadata": {},
     "output_type": "execute_result"
    }
   ],
   "source": [
    "# Utilizar label encoder (Categórico Ordinal)\n",
    "df['BsmtExposure'] =  df['BsmtExposure'].map({'Gd': 4, 'Av':3, 'Mn':2, 'No':1})\n",
    "df.BsmtExposure.fillna(value=0,inplace=True)\n",
    "df['BsmtExposure'].isna().sum()"
   ]
  },
  {
   "cell_type": "code",
   "execution_count": 19,
   "id": "51dd4332-bdf6-460c-84d9-209da1b16dc1",
   "metadata": {},
   "outputs": [
    {
     "data": {
      "text/plain": [
       "0"
      ]
     },
     "execution_count": 19,
     "metadata": {},
     "output_type": "execute_result"
    }
   ],
   "source": [
    "# Utilizar label encoder (Categórico Ordinal)\n",
    "df['BsmtFinType1'] =  df['BsmtFinType1'].map({'GLQ':6,'ALQ':5,'BLQ':4,'Rec':3,'LwQ':2,'Unf':1})\n",
    "df.BsmtFinType1.fillna(value=0,inplace=True)\n",
    "df['BsmtFinType1'].isna().sum()"
   ]
  },
  {
   "cell_type": "code",
   "execution_count": 20,
   "id": "36233dc6-2690-450e-842b-494fc36d106e",
   "metadata": {},
   "outputs": [
    {
     "data": {
      "text/plain": [
       "0"
      ]
     },
     "execution_count": 20,
     "metadata": {},
     "output_type": "execute_result"
    }
   ],
   "source": [
    "# Utilizar label encoder (Categórico Ordinal)\n",
    "df['BsmtFinType2'] =  df['BsmtFinType2'].map({'GLQ':6,'ALQ':5,'BLQ':4,'Rec':3,'LwQ':2,'Unf':1})\n",
    "df.BsmtFinType2.fillna(value=0,inplace=True)\n",
    "df['BsmtFinType2'].isna().sum()"
   ]
  },
  {
   "cell_type": "code",
   "execution_count": 21,
   "id": "4ae5633f-ce6c-46e4-9bb0-9302b98bebd7",
   "metadata": {},
   "outputs": [],
   "source": [
    "# Utilizar label encoder (Categórico Ordinal)\n",
    "df['HeatingQC'] =  df['HeatingQC'].map({'Ex': 4, 'Gd':3, 'TA':2, 'Fa':1,'Po':0})"
   ]
  },
  {
   "cell_type": "code",
   "execution_count": 22,
   "id": "5f24077c-4230-45bc-bf2a-cf8f35eb6f91",
   "metadata": {},
   "outputs": [],
   "source": [
    "# Utilizar label encoder (Categórico Ordinal)\n",
    "df['CentralAir'] =  df['CentralAir'].map({'Y':1,'N':0})"
   ]
  },
  {
   "cell_type": "code",
   "execution_count": 23,
   "id": "afe4c691-d5ba-4f65-9c36-6a0d2c69aaa5",
   "metadata": {},
   "outputs": [],
   "source": [
    "# Utilizar label encoder (Categórico Ordinal)\n",
    "df['KitchenQual'] =  df['KitchenQual'].map({'Ex': 4, 'Gd':3, 'TA':2, 'Fa':1,'Po':0})"
   ]
  },
  {
   "cell_type": "code",
   "execution_count": 24,
   "id": "526fcdcf-313b-4d99-9af0-da136ee04205",
   "metadata": {},
   "outputs": [
    {
     "data": {
      "text/plain": [
       "array(['Typ', 'Min2', 'Min1', 'Mod', 'Maj1', 'Sev', 'Maj2', nan],\n",
       "      dtype=object)"
      ]
     },
     "execution_count": 24,
     "metadata": {},
     "output_type": "execute_result"
    }
   ],
   "source": [
    "df['Functional'].unique()"
   ]
  },
  {
   "cell_type": "code",
   "execution_count": 25,
   "id": "3e7a5a5e-fc33-405b-9f91-56ad7073af7d",
   "metadata": {},
   "outputs": [],
   "source": [
    "# Utilizar label encoder (Categórico Ordinal)\n",
    "df['Functional'] =  df['Functional'].map({'Typ':7, 'Min1':6, 'Min2':5,'Mod':4,  'Maj1':3,'Maj2':2\n",
    "                                          , 'Sev':1, 'Sal':0})"
   ]
  },
  {
   "cell_type": "code",
   "execution_count": 26,
   "id": "03689173-76f6-4ab6-a9eb-165dc465eb88",
   "metadata": {},
   "outputs": [
    {
     "data": {
      "text/plain": [
       "0"
      ]
     },
     "execution_count": 26,
     "metadata": {},
     "output_type": "execute_result"
    }
   ],
   "source": [
    "# Utilizar label encoder (Categórico Ordinal)\n",
    "df['FireplaceQu'] =  df['FireplaceQu'].map({'Ex': 5, 'Gd':4, 'TA':3, 'Fa':2,'Po':1})\n",
    "df.FireplaceQu.fillna(value=0,inplace=True)\n",
    "df['FireplaceQu'].isna().sum()"
   ]
  },
  {
   "cell_type": "code",
   "execution_count": 27,
   "id": "af71a639-4e7c-44fe-ad2f-fba78575546f",
   "metadata": {},
   "outputs": [
    {
     "data": {
      "text/plain": [
       "0"
      ]
     },
     "execution_count": 27,
     "metadata": {},
     "output_type": "execute_result"
    }
   ],
   "source": [
    "# Utilizar label encoder (Categórico Ordinal)\n",
    "df['GarageFinish'] =  df['GarageFinish'].map({'Fin':3,'RFn':2,'Unf':1})\n",
    "df.GarageFinish.fillna(value=0,inplace=True)\n",
    "df['GarageFinish'].isna().sum()"
   ]
  },
  {
   "cell_type": "code",
   "execution_count": 28,
   "id": "e7e56b45-6822-464e-a4a8-cee09079ac8a",
   "metadata": {},
   "outputs": [
    {
     "data": {
      "text/plain": [
       "0"
      ]
     },
     "execution_count": 28,
     "metadata": {},
     "output_type": "execute_result"
    }
   ],
   "source": [
    "# Utilizar label encoder (Categórico Ordinal)\n",
    "df['GarageQual'] =  df['GarageQual'].map({'Ex': 5, 'Gd':4, 'TA':3, 'Fa':2,'Po':1})\n",
    "df.GarageQual.fillna(value=0,inplace=True)\n",
    "df['GarageQual'].isna().sum()"
   ]
  },
  {
   "cell_type": "code",
   "execution_count": 29,
   "id": "6181d2e6-2945-4101-bd7d-2b31f26f762a",
   "metadata": {},
   "outputs": [
    {
     "data": {
      "text/plain": [
       "0"
      ]
     },
     "execution_count": 29,
     "metadata": {},
     "output_type": "execute_result"
    }
   ],
   "source": [
    "# Utilizar label encoder (Categórico Ordinal)\n",
    "df['GarageCond'] =  df['GarageCond'].map({'Ex': 5, 'Gd':4, 'TA':3, 'Fa':2,'Po':1})\n",
    "df.GarageCond.fillna(value=0,inplace=True)\n",
    "df['GarageCond'].isna().sum()"
   ]
  },
  {
   "cell_type": "code",
   "execution_count": 30,
   "id": "ef2e45cc-0c2e-4f92-99ed-77f6fe0cca8b",
   "metadata": {},
   "outputs": [],
   "source": [
    "# Remover o atributo PoolQC\n",
    "\n",
    "df.drop('PoolQC',axis=1,inplace=True)"
   ]
  },
  {
   "cell_type": "code",
   "execution_count": 31,
   "id": "99069277-ac48-48fb-aeb5-6e6659279e08",
   "metadata": {},
   "outputs": [],
   "source": [
    "# Remover o atributo Fence\n",
    "\n",
    "df.drop('Fence',axis=1,inplace=True)"
   ]
  },
  {
   "cell_type": "code",
   "execution_count": 34,
   "id": "f3153f75-f690-47af-9685-d29aaaf02918",
   "metadata": {},
   "outputs": [
    {
     "data": {
      "text/plain": [
       "0"
      ]
     },
     "execution_count": 34,
     "metadata": {},
     "output_type": "execute_result"
    }
   ],
   "source": [
    "# Corrigindo o atributo LotFrontage. Atribuindo a média aos valores NULOS\n",
    "df.LotFrontage.fillna(value=df.LotFrontage.mean(),inplace=True)\n",
    "df.LotFrontage.isna().sum()"
   ]
  },
  {
   "cell_type": "code",
   "execution_count": 35,
   "id": "fc17c049-d161-42c9-8d9f-05bf4e1b1e55",
   "metadata": {},
   "outputs": [],
   "source": [
    "# Corrigindo o atributo GarageYrBlt. Temos 81 valores NULOS. Atrelar a data de construção do Prédio.\n",
    "\n",
    "df.GarageYrBlt.fillna(value=df.YearBuilt ,inplace=True)"
   ]
  },
  {
   "cell_type": "code",
   "execution_count": 36,
   "id": "3abb6787-8380-4425-a7b3-fcb1c72258d2",
   "metadata": {},
   "outputs": [
    {
     "data": {
      "text/plain": [
       "0"
      ]
     },
     "execution_count": 36,
     "metadata": {},
     "output_type": "execute_result"
    }
   ],
   "source": [
    "# None é um valor válido para este atributo\n",
    "df.MasVnrType.fillna(value='No',inplace=True)\n",
    "df['MasVnrType'].isna().sum()"
   ]
  },
  {
   "cell_type": "code",
   "execution_count": 37,
   "id": "5b3a473f-52b3-4a79-babe-0929b0e01efe",
   "metadata": {},
   "outputs": [
    {
     "data": {
      "text/plain": [
       "0"
      ]
     },
     "execution_count": 37,
     "metadata": {},
     "output_type": "execute_result"
    }
   ],
   "source": [
    "# None é um valor válido para este atributo\n",
    "df.MasVnrArea.fillna(value=0,inplace=True)\n",
    "df['MasVnrArea'].isna().sum()"
   ]
  },
  {
   "cell_type": "code",
   "execution_count": 38,
   "id": "5bed0f2c-4e5c-4d09-a5d4-761e0ba76bfd",
   "metadata": {},
   "outputs": [],
   "source": [
    "def put_mode(col_name,col_ref,df):\n",
    "\n",
    "    indexes = (np.where(df[col_name].isna()))\n",
    "\n",
    "    modes = {}\n",
    "    \n",
    "    for i in indexes[0]:\n",
    "\n",
    "        value = df.loc[i,col_ref]\n",
    "\n",
    "        modes[i] = df[df[col_ref] == value][col_name].mode().values[0]\n",
    "\n",
    "    df[col_name].fillna(value=modes,inplace=True)\n",
    "    \n",
    "    "
   ]
  },
  {
   "cell_type": "code",
   "execution_count": 39,
   "id": "b9ed6444-c525-4c1b-a187-68470364b714",
   "metadata": {},
   "outputs": [
    {
     "data": {
      "text/plain": [
       "0"
      ]
     },
     "execution_count": 39,
     "metadata": {},
     "output_type": "execute_result"
    }
   ],
   "source": [
    "put_mode('Electrical','Utilities',df)\n",
    "df['Electrical'].isna().sum()"
   ]
  },
  {
   "cell_type": "code",
   "execution_count": 40,
   "id": "8cdf3469-80ed-4450-98e3-e0bee5231e90",
   "metadata": {},
   "outputs": [
    {
     "data": {
      "text/plain": [
       "0"
      ]
     },
     "execution_count": 40,
     "metadata": {},
     "output_type": "execute_result"
    }
   ],
   "source": [
    "# None é um valor válido para este atributo\n",
    "df.GarageType.fillna(value='No',inplace=True)\n",
    "df['GarageType'].isna().sum()"
   ]
  },
  {
   "cell_type": "code",
   "execution_count": 41,
   "id": "44e3394c-10ef-49b0-bf8c-0ce1fce73468",
   "metadata": {},
   "outputs": [
    {
     "data": {
      "text/plain": [
       "0"
      ]
     },
     "execution_count": 41,
     "metadata": {},
     "output_type": "execute_result"
    }
   ],
   "source": [
    "# None é um valor válido para este atributo\n",
    "df.MiscFeature.fillna(value='No',inplace=True)\n",
    "df['MiscFeature'].isna().sum()"
   ]
  },
  {
   "cell_type": "markdown",
   "id": "d80a1192-6618-4c65-a16f-1dd5ba7bad55",
   "metadata": {},
   "source": [
    "Os seguintes atributos precisam ser tratados.\n",
    "\n",
    "\n",
    " 1   MSZoning       1455 non-null   object \n",
    " \n",
    " \n",
    " 21  Exterior1st    1458 non-null   object \n",
    " \n",
    " 22  Exterior2nd    1458 non-null   object \n",
    "\n",
    " 32  BsmtFinSF1     1458 non-null   float64\n",
    " \n",
    " 34  BsmtFinSF2     1458 non-null   float64\n",
    " \n",
    " 35  BsmtUnfSF      1458 non-null   float64\n",
    " \n",
    " 36  TotalBsmtSF    1458 non-null   float64\n",
    " \n",
    " 45  BsmtFullBath   1457 non-null   float64\n",
    " \n",
    " 46  BsmtHalfBath   1457 non-null   float64\n",
    "\n",
    " 51  KitchenQual    1458 non-null   float64\n",
    " \n",
    " 53  Functional     1457 non-null   float64\n",
    "\n",
    " 59  GarageCars     1458 non-null   float64\n",
    " \n",
    " 60  GarageArea     1458 non-null   float64\n",
    "  \n",
    " 74  SaleType       1458 non-null   object "
   ]
  },
  {
   "cell_type": "code",
   "execution_count": 46,
   "id": "45357aaa-5fd6-441a-816a-302813bb5e4a",
   "metadata": {},
   "outputs": [
    {
     "data": {
      "text/plain": [
       "0"
      ]
     },
     "execution_count": 46,
     "metadata": {},
     "output_type": "execute_result"
    }
   ],
   "source": [
    "# Tratando valor missing\n",
    "df.BsmtFinSF1.fillna(value=0,inplace=True)\n",
    "df['BsmtFinSF1'].isna().sum()"
   ]
  },
  {
   "cell_type": "code",
   "execution_count": 47,
   "id": "f2031640-e149-4636-a1b8-c768b8c6fdab",
   "metadata": {},
   "outputs": [
    {
     "data": {
      "text/plain": [
       "0"
      ]
     },
     "execution_count": 47,
     "metadata": {},
     "output_type": "execute_result"
    }
   ],
   "source": [
    "# Tratando valor missing\n",
    "df.BsmtFinSF2.fillna(value=0,inplace=True)\n",
    "df['BsmtFinSF2'].isna().sum()"
   ]
  },
  {
   "cell_type": "code",
   "execution_count": 48,
   "id": "0d828923-39b7-439f-89d7-3dec88421377",
   "metadata": {},
   "outputs": [
    {
     "data": {
      "text/plain": [
       "0"
      ]
     },
     "execution_count": 48,
     "metadata": {},
     "output_type": "execute_result"
    }
   ],
   "source": [
    "# Tratando valor missing\n",
    "df.BsmtUnfSF.fillna(value=0,inplace=True)\n",
    "df['BsmtUnfSF'].isna().sum()"
   ]
  },
  {
   "cell_type": "code",
   "execution_count": 49,
   "id": "7b9a32ff-603c-400e-8f06-e0bd39beae9a",
   "metadata": {},
   "outputs": [
    {
     "data": {
      "text/plain": [
       "0"
      ]
     },
     "execution_count": 49,
     "metadata": {},
     "output_type": "execute_result"
    }
   ],
   "source": [
    "# Tratando valor missing\n",
    "df.TotalBsmtSF.fillna(value=0,inplace=True)\n",
    "df['TotalBsmtSF'].isna().sum()"
   ]
  },
  {
   "cell_type": "code",
   "execution_count": 50,
   "id": "f265cf54-21b6-4446-a319-3705f97a1025",
   "metadata": {},
   "outputs": [
    {
     "data": {
      "text/plain": [
       "0"
      ]
     },
     "execution_count": 50,
     "metadata": {},
     "output_type": "execute_result"
    }
   ],
   "source": [
    "# Tratando valor missing\n",
    "df.BsmtFullBath.fillna(value=0,inplace=True)\n",
    "df['BsmtFullBath'].isna().sum()"
   ]
  },
  {
   "cell_type": "code",
   "execution_count": 51,
   "id": "7a4ae369-f479-400a-93de-3ecf3d0534ee",
   "metadata": {},
   "outputs": [
    {
     "data": {
      "text/plain": [
       "0"
      ]
     },
     "execution_count": 51,
     "metadata": {},
     "output_type": "execute_result"
    }
   ],
   "source": [
    "# Tratando valor missing\n",
    "df.BsmtHalfBath.fillna(value=0,inplace=True)\n",
    "df['BsmtHalfBath'].isna().sum()"
   ]
  },
  {
   "cell_type": "code",
   "execution_count": 53,
   "id": "f1a6d3b9-6e8f-4387-82a9-2cc19b068a14",
   "metadata": {},
   "outputs": [
    {
     "data": {
      "text/plain": [
       "0"
      ]
     },
     "execution_count": 53,
     "metadata": {},
     "output_type": "execute_result"
    }
   ],
   "source": [
    "# Tratando valor missing\n",
    "df.KitchenQual.fillna(value=0,inplace=True)\n",
    "df['KitchenQual'].isna().sum()"
   ]
  },
  {
   "cell_type": "code",
   "execution_count": 52,
   "id": "6335bf14-6ed3-43d5-a452-1fbaff9d51a8",
   "metadata": {},
   "outputs": [
    {
     "data": {
      "text/plain": [
       "0"
      ]
     },
     "execution_count": 52,
     "metadata": {},
     "output_type": "execute_result"
    }
   ],
   "source": [
    "# Tratando valor missing\n",
    "df.Functional.fillna(value=0,inplace=True)\n",
    "df['Functional'].isna().sum()"
   ]
  },
  {
   "cell_type": "code",
   "execution_count": 54,
   "id": "b798fb3b-712a-45a5-bfb1-90207e79fc24",
   "metadata": {},
   "outputs": [
    {
     "data": {
      "text/plain": [
       "0"
      ]
     },
     "execution_count": 54,
     "metadata": {},
     "output_type": "execute_result"
    }
   ],
   "source": [
    "# Tratando valor missing\n",
    "df.GarageCars.fillna(value=0,inplace=True)\n",
    "df['GarageCars'].isna().sum()"
   ]
  },
  {
   "cell_type": "code",
   "execution_count": 55,
   "id": "e4fe733d-e059-4519-ae62-2c357aff3d85",
   "metadata": {},
   "outputs": [
    {
     "data": {
      "text/plain": [
       "0"
      ]
     },
     "execution_count": 55,
     "metadata": {},
     "output_type": "execute_result"
    }
   ],
   "source": [
    "# Tratando valor missing\n",
    "df.GarageArea.fillna(value=0,inplace=True)\n",
    "df['GarageArea'].isna().sum()"
   ]
  },
  {
   "cell_type": "markdown",
   "id": "0f2f64c4-7174-49de-bb44-e35f469258b0",
   "metadata": {},
   "source": [
    "Após tratarmos os floats, iremos lidar com as strings.\n",
    "\n",
    "\n",
    " 1   MSZoning       1455 non-null   object \n",
    "\n",
    " 21  Exterior1st    1458 non-null   object \n",
    " \n",
    " 74  SaleType       1458 non-null   object \n"
   ]
  },
  {
   "cell_type": "code",
   "execution_count": 65,
   "id": "e3d65951-23c4-4329-b6a5-596d64750bb1",
   "metadata": {},
   "outputs": [
    {
     "data": {
      "text/plain": [
       "0"
      ]
     },
     "execution_count": 65,
     "metadata": {},
     "output_type": "execute_result"
    }
   ],
   "source": [
    "put_mode('MSZoning','MSSubClass',df)\n",
    "df['MSZoning'].isna().sum()"
   ]
  },
  {
   "cell_type": "code",
   "execution_count": 64,
   "id": "4630e209-a2f3-46d3-b961-3fb5a5585c8c",
   "metadata": {},
   "outputs": [
    {
     "data": {
      "text/plain": [
       "0"
      ]
     },
     "execution_count": 64,
     "metadata": {},
     "output_type": "execute_result"
    }
   ],
   "source": [
    "put_mode('Exterior1st','Condition1',df)\n",
    "df['Exterior1st'].isna().sum()"
   ]
  },
  {
   "cell_type": "code",
   "execution_count": 72,
   "id": "d1e2a67e-ac65-4930-b4b4-d4de3e9b2560",
   "metadata": {},
   "outputs": [
    {
     "data": {
      "text/plain": [
       "0"
      ]
     },
     "execution_count": 72,
     "metadata": {},
     "output_type": "execute_result"
    }
   ],
   "source": [
    "put_mode('Exterior2nd','Condition1',df)\n",
    "df['Exterior2nd'].isna().sum()"
   ]
  },
  {
   "cell_type": "code",
   "execution_count": 63,
   "id": "8a9c090b-9353-40f0-97b0-8cc8ffaa2301",
   "metadata": {},
   "outputs": [
    {
     "data": {
      "text/plain": [
       "0"
      ]
     },
     "execution_count": 63,
     "metadata": {},
     "output_type": "execute_result"
    }
   ],
   "source": [
    "put_mode('SaleType','SaleCondition',df)\n",
    "df['SaleType'].isna().sum()"
   ]
  },
  {
   "cell_type": "code",
   "execution_count": 73,
   "id": "b9ce444b-f5fe-4f4e-ad0c-2dc6674423b7",
   "metadata": {},
   "outputs": [
    {
     "data": {
      "text/plain": [
       "0"
      ]
     },
     "execution_count": 73,
     "metadata": {},
     "output_type": "execute_result"
    }
   ],
   "source": [
    "df.isna().sum().sum()"
   ]
  },
  {
   "cell_type": "markdown",
   "id": "7120889f-50a4-44d9-8e7b-61281c94abc0",
   "metadata": {},
   "source": [
    "### Encodings"
   ]
  },
  {
   "cell_type": "markdown",
   "id": "021808c0-f86c-4c49-9911-838e43ceafe0",
   "metadata": {},
   "source": [
    "Para a tarefa de inferência, seremos capazes de realizar o target encoder. Entretanto, para predição, que não tem a classe, seremos obrigados a utilizar outro tipo de encoder.\n",
    "\n",
    "Iremos utilizar 1 abordagem para a predição:\n",
    "\n",
    "- Remover atributos categóricos restantes (24)\n"
   ]
  },
  {
   "cell_type": "markdown",
   "id": "81aebc2c-03e1-427d-9128-61225b98b2a2",
   "metadata": {},
   "source": [
    "### Verificando atributos ambíguos"
   ]
  },
  {
   "cell_type": "markdown",
   "id": "69413d60-68f8-4161-92b8-147ccbd44925",
   "metadata": {},
   "source": [
    "Este atributos tem uma correlação alta, o que fazer?\n",
    "\n",
    "Iremos testar inicialmente a regressão com estes atributos, e depois removê-los, e comparar os modelos. E comparar o R2 ajustado dos atributos para verificar se houve melhora."
   ]
  },
  {
   "cell_type": "code",
   "execution_count": 87,
   "id": "d5f9a130-ee9b-4c68-97c8-a5dcec00ddc4",
   "metadata": {},
   "outputs": [
    {
     "ename": "KeyError",
     "evalue": "\"['GarageCond', 'SaleType', 'Exterior2nd'] not found in axis\"",
     "output_type": "error",
     "traceback": [
      "\u001b[0;31m---------------------------------------------------------------------------\u001b[0m",
      "\u001b[0;31mKeyError\u001b[0m                                  Traceback (most recent call last)",
      "Cell \u001b[0;32mIn[87], line 3\u001b[0m\n\u001b[1;32m      1\u001b[0m remover \u001b[38;5;241m=\u001b[39m [\u001b[38;5;124m'\u001b[39m\u001b[38;5;124mGarageCond\u001b[39m\u001b[38;5;124m'\u001b[39m,\u001b[38;5;124m'\u001b[39m\u001b[38;5;124mSaleType\u001b[39m\u001b[38;5;124m'\u001b[39m,\u001b[38;5;124m'\u001b[39m\u001b[38;5;124mExterior2nd\u001b[39m\u001b[38;5;124m'\u001b[39m]\n\u001b[0;32m----> 3\u001b[0m \u001b[43mdf\u001b[49m\u001b[38;5;241;43m.\u001b[39;49m\u001b[43mdrop\u001b[49m\u001b[43m(\u001b[49m\u001b[43mremover\u001b[49m\u001b[43m,\u001b[49m\u001b[43maxis\u001b[49m\u001b[38;5;241;43m=\u001b[39;49m\u001b[38;5;241;43m1\u001b[39;49m\u001b[43m,\u001b[49m\u001b[43minplace\u001b[49m\u001b[38;5;241;43m=\u001b[39;49m\u001b[38;5;28;43;01mTrue\u001b[39;49;00m\u001b[43m)\u001b[49m\n",
      "File \u001b[0;32m~/anaconda3/envs/faiss/lib/python3.9/site-packages/pandas/util/_decorators.py:331\u001b[0m, in \u001b[0;36mdeprecate_nonkeyword_arguments.<locals>.decorate.<locals>.wrapper\u001b[0;34m(*args, **kwargs)\u001b[0m\n\u001b[1;32m    325\u001b[0m \u001b[38;5;28;01mif\u001b[39;00m \u001b[38;5;28mlen\u001b[39m(args) \u001b[38;5;241m>\u001b[39m num_allow_args:\n\u001b[1;32m    326\u001b[0m     warnings\u001b[38;5;241m.\u001b[39mwarn(\n\u001b[1;32m    327\u001b[0m         msg\u001b[38;5;241m.\u001b[39mformat(arguments\u001b[38;5;241m=\u001b[39m_format_argument_list(allow_args)),\n\u001b[1;32m    328\u001b[0m         \u001b[38;5;167;01mFutureWarning\u001b[39;00m,\n\u001b[1;32m    329\u001b[0m         stacklevel\u001b[38;5;241m=\u001b[39mfind_stack_level(),\n\u001b[1;32m    330\u001b[0m     )\n\u001b[0;32m--> 331\u001b[0m \u001b[38;5;28;01mreturn\u001b[39;00m \u001b[43mfunc\u001b[49m\u001b[43m(\u001b[49m\u001b[38;5;241;43m*\u001b[39;49m\u001b[43margs\u001b[49m\u001b[43m,\u001b[49m\u001b[43m \u001b[49m\u001b[38;5;241;43m*\u001b[39;49m\u001b[38;5;241;43m*\u001b[39;49m\u001b[43mkwargs\u001b[49m\u001b[43m)\u001b[49m\n",
      "File \u001b[0;32m~/anaconda3/envs/faiss/lib/python3.9/site-packages/pandas/core/frame.py:5399\u001b[0m, in \u001b[0;36mDataFrame.drop\u001b[0;34m(self, labels, axis, index, columns, level, inplace, errors)\u001b[0m\n\u001b[1;32m   5251\u001b[0m \u001b[38;5;129m@deprecate_nonkeyword_arguments\u001b[39m(version\u001b[38;5;241m=\u001b[39m\u001b[38;5;28;01mNone\u001b[39;00m, allowed_args\u001b[38;5;241m=\u001b[39m[\u001b[38;5;124m\"\u001b[39m\u001b[38;5;124mself\u001b[39m\u001b[38;5;124m\"\u001b[39m, \u001b[38;5;124m\"\u001b[39m\u001b[38;5;124mlabels\u001b[39m\u001b[38;5;124m\"\u001b[39m])\n\u001b[1;32m   5252\u001b[0m \u001b[38;5;28;01mdef\u001b[39;00m \u001b[38;5;21mdrop\u001b[39m(  \u001b[38;5;66;03m# type: ignore[override]\u001b[39;00m\n\u001b[1;32m   5253\u001b[0m     \u001b[38;5;28mself\u001b[39m,\n\u001b[0;32m   (...)\u001b[0m\n\u001b[1;32m   5260\u001b[0m     errors: IgnoreRaise \u001b[38;5;241m=\u001b[39m \u001b[38;5;124m\"\u001b[39m\u001b[38;5;124mraise\u001b[39m\u001b[38;5;124m\"\u001b[39m,\n\u001b[1;32m   5261\u001b[0m ) \u001b[38;5;241m-\u001b[39m\u001b[38;5;241m>\u001b[39m DataFrame \u001b[38;5;241m|\u001b[39m \u001b[38;5;28;01mNone\u001b[39;00m:\n\u001b[1;32m   5262\u001b[0m \u001b[38;5;250m    \u001b[39m\u001b[38;5;124;03m\"\"\"\u001b[39;00m\n\u001b[1;32m   5263\u001b[0m \u001b[38;5;124;03m    Drop specified labels from rows or columns.\u001b[39;00m\n\u001b[1;32m   5264\u001b[0m \n\u001b[0;32m   (...)\u001b[0m\n\u001b[1;32m   5397\u001b[0m \u001b[38;5;124;03m            weight  1.0     0.8\u001b[39;00m\n\u001b[1;32m   5398\u001b[0m \u001b[38;5;124;03m    \"\"\"\u001b[39;00m\n\u001b[0;32m-> 5399\u001b[0m     \u001b[38;5;28;01mreturn\u001b[39;00m \u001b[38;5;28;43msuper\u001b[39;49m\u001b[43m(\u001b[49m\u001b[43m)\u001b[49m\u001b[38;5;241;43m.\u001b[39;49m\u001b[43mdrop\u001b[49m\u001b[43m(\u001b[49m\n\u001b[1;32m   5400\u001b[0m \u001b[43m        \u001b[49m\u001b[43mlabels\u001b[49m\u001b[38;5;241;43m=\u001b[39;49m\u001b[43mlabels\u001b[49m\u001b[43m,\u001b[49m\n\u001b[1;32m   5401\u001b[0m \u001b[43m        \u001b[49m\u001b[43maxis\u001b[49m\u001b[38;5;241;43m=\u001b[39;49m\u001b[43maxis\u001b[49m\u001b[43m,\u001b[49m\n\u001b[1;32m   5402\u001b[0m \u001b[43m        \u001b[49m\u001b[43mindex\u001b[49m\u001b[38;5;241;43m=\u001b[39;49m\u001b[43mindex\u001b[49m\u001b[43m,\u001b[49m\n\u001b[1;32m   5403\u001b[0m \u001b[43m        \u001b[49m\u001b[43mcolumns\u001b[49m\u001b[38;5;241;43m=\u001b[39;49m\u001b[43mcolumns\u001b[49m\u001b[43m,\u001b[49m\n\u001b[1;32m   5404\u001b[0m \u001b[43m        \u001b[49m\u001b[43mlevel\u001b[49m\u001b[38;5;241;43m=\u001b[39;49m\u001b[43mlevel\u001b[49m\u001b[43m,\u001b[49m\n\u001b[1;32m   5405\u001b[0m \u001b[43m        \u001b[49m\u001b[43minplace\u001b[49m\u001b[38;5;241;43m=\u001b[39;49m\u001b[43minplace\u001b[49m\u001b[43m,\u001b[49m\n\u001b[1;32m   5406\u001b[0m \u001b[43m        \u001b[49m\u001b[43merrors\u001b[49m\u001b[38;5;241;43m=\u001b[39;49m\u001b[43merrors\u001b[49m\u001b[43m,\u001b[49m\n\u001b[1;32m   5407\u001b[0m \u001b[43m    \u001b[49m\u001b[43m)\u001b[49m\n",
      "File \u001b[0;32m~/anaconda3/envs/faiss/lib/python3.9/site-packages/pandas/util/_decorators.py:331\u001b[0m, in \u001b[0;36mdeprecate_nonkeyword_arguments.<locals>.decorate.<locals>.wrapper\u001b[0;34m(*args, **kwargs)\u001b[0m\n\u001b[1;32m    325\u001b[0m \u001b[38;5;28;01mif\u001b[39;00m \u001b[38;5;28mlen\u001b[39m(args) \u001b[38;5;241m>\u001b[39m num_allow_args:\n\u001b[1;32m    326\u001b[0m     warnings\u001b[38;5;241m.\u001b[39mwarn(\n\u001b[1;32m    327\u001b[0m         msg\u001b[38;5;241m.\u001b[39mformat(arguments\u001b[38;5;241m=\u001b[39m_format_argument_list(allow_args)),\n\u001b[1;32m    328\u001b[0m         \u001b[38;5;167;01mFutureWarning\u001b[39;00m,\n\u001b[1;32m    329\u001b[0m         stacklevel\u001b[38;5;241m=\u001b[39mfind_stack_level(),\n\u001b[1;32m    330\u001b[0m     )\n\u001b[0;32m--> 331\u001b[0m \u001b[38;5;28;01mreturn\u001b[39;00m \u001b[43mfunc\u001b[49m\u001b[43m(\u001b[49m\u001b[38;5;241;43m*\u001b[39;49m\u001b[43margs\u001b[49m\u001b[43m,\u001b[49m\u001b[43m \u001b[49m\u001b[38;5;241;43m*\u001b[39;49m\u001b[38;5;241;43m*\u001b[39;49m\u001b[43mkwargs\u001b[49m\u001b[43m)\u001b[49m\n",
      "File \u001b[0;32m~/anaconda3/envs/faiss/lib/python3.9/site-packages/pandas/core/generic.py:4505\u001b[0m, in \u001b[0;36mNDFrame.drop\u001b[0;34m(self, labels, axis, index, columns, level, inplace, errors)\u001b[0m\n\u001b[1;32m   4503\u001b[0m \u001b[38;5;28;01mfor\u001b[39;00m axis, labels \u001b[38;5;129;01min\u001b[39;00m axes\u001b[38;5;241m.\u001b[39mitems():\n\u001b[1;32m   4504\u001b[0m     \u001b[38;5;28;01mif\u001b[39;00m labels \u001b[38;5;129;01mis\u001b[39;00m \u001b[38;5;129;01mnot\u001b[39;00m \u001b[38;5;28;01mNone\u001b[39;00m:\n\u001b[0;32m-> 4505\u001b[0m         obj \u001b[38;5;241m=\u001b[39m \u001b[43mobj\u001b[49m\u001b[38;5;241;43m.\u001b[39;49m\u001b[43m_drop_axis\u001b[49m\u001b[43m(\u001b[49m\u001b[43mlabels\u001b[49m\u001b[43m,\u001b[49m\u001b[43m \u001b[49m\u001b[43maxis\u001b[49m\u001b[43m,\u001b[49m\u001b[43m \u001b[49m\u001b[43mlevel\u001b[49m\u001b[38;5;241;43m=\u001b[39;49m\u001b[43mlevel\u001b[49m\u001b[43m,\u001b[49m\u001b[43m \u001b[49m\u001b[43merrors\u001b[49m\u001b[38;5;241;43m=\u001b[39;49m\u001b[43merrors\u001b[49m\u001b[43m)\u001b[49m\n\u001b[1;32m   4507\u001b[0m \u001b[38;5;28;01mif\u001b[39;00m inplace:\n\u001b[1;32m   4508\u001b[0m     \u001b[38;5;28mself\u001b[39m\u001b[38;5;241m.\u001b[39m_update_inplace(obj)\n",
      "File \u001b[0;32m~/anaconda3/envs/faiss/lib/python3.9/site-packages/pandas/core/generic.py:4546\u001b[0m, in \u001b[0;36mNDFrame._drop_axis\u001b[0;34m(self, labels, axis, level, errors, only_slice)\u001b[0m\n\u001b[1;32m   4544\u001b[0m         new_axis \u001b[38;5;241m=\u001b[39m axis\u001b[38;5;241m.\u001b[39mdrop(labels, level\u001b[38;5;241m=\u001b[39mlevel, errors\u001b[38;5;241m=\u001b[39merrors)\n\u001b[1;32m   4545\u001b[0m     \u001b[38;5;28;01melse\u001b[39;00m:\n\u001b[0;32m-> 4546\u001b[0m         new_axis \u001b[38;5;241m=\u001b[39m \u001b[43maxis\u001b[49m\u001b[38;5;241;43m.\u001b[39;49m\u001b[43mdrop\u001b[49m\u001b[43m(\u001b[49m\u001b[43mlabels\u001b[49m\u001b[43m,\u001b[49m\u001b[43m \u001b[49m\u001b[43merrors\u001b[49m\u001b[38;5;241;43m=\u001b[39;49m\u001b[43merrors\u001b[49m\u001b[43m)\u001b[49m\n\u001b[1;32m   4547\u001b[0m     indexer \u001b[38;5;241m=\u001b[39m axis\u001b[38;5;241m.\u001b[39mget_indexer(new_axis)\n\u001b[1;32m   4549\u001b[0m \u001b[38;5;66;03m# Case for non-unique axis\u001b[39;00m\n\u001b[1;32m   4550\u001b[0m \u001b[38;5;28;01melse\u001b[39;00m:\n",
      "File \u001b[0;32m~/anaconda3/envs/faiss/lib/python3.9/site-packages/pandas/core/indexes/base.py:6934\u001b[0m, in \u001b[0;36mIndex.drop\u001b[0;34m(self, labels, errors)\u001b[0m\n\u001b[1;32m   6932\u001b[0m \u001b[38;5;28;01mif\u001b[39;00m mask\u001b[38;5;241m.\u001b[39many():\n\u001b[1;32m   6933\u001b[0m     \u001b[38;5;28;01mif\u001b[39;00m errors \u001b[38;5;241m!=\u001b[39m \u001b[38;5;124m\"\u001b[39m\u001b[38;5;124mignore\u001b[39m\u001b[38;5;124m\"\u001b[39m:\n\u001b[0;32m-> 6934\u001b[0m         \u001b[38;5;28;01mraise\u001b[39;00m \u001b[38;5;167;01mKeyError\u001b[39;00m(\u001b[38;5;124mf\u001b[39m\u001b[38;5;124m\"\u001b[39m\u001b[38;5;132;01m{\u001b[39;00m\u001b[38;5;28mlist\u001b[39m(labels[mask])\u001b[38;5;132;01m}\u001b[39;00m\u001b[38;5;124m not found in axis\u001b[39m\u001b[38;5;124m\"\u001b[39m)\n\u001b[1;32m   6935\u001b[0m     indexer \u001b[38;5;241m=\u001b[39m indexer[\u001b[38;5;241m~\u001b[39mmask]\n\u001b[1;32m   6936\u001b[0m \u001b[38;5;28;01mreturn\u001b[39;00m \u001b[38;5;28mself\u001b[39m\u001b[38;5;241m.\u001b[39mdelete(indexer)\n",
      "\u001b[0;31mKeyError\u001b[0m: \"['GarageCond', 'SaleType', 'Exterior2nd'] not found in axis\""
     ]
    }
   ],
   "source": [
    "remover = ['GarageCond','SaleType','Exterior2nd']\n",
    "\n",
    "df.drop(remover,axis=1,inplace=True)"
   ]
  },
  {
   "cell_type": "code",
   "execution_count": 81,
   "id": "0b1ac53c-b051-4e6b-9440-16a861d6a947",
   "metadata": {},
   "outputs": [],
   "source": [
    "values = [\n",
    "    \"MSZoning\",\n",
    "    \"LandContour\",\n",
    "    \"LotConfig\",\n",
    "    \"Neighborhood\",\n",
    "    \"Condition1\",\n",
    "    \"Condition2\",\n",
    "    \"BldgType\",\n",
    "    \"HouseStyle\",\n",
    "    \"RoofStyle\",\n",
    "    \"RoofMatl\",\n",
    "    \"Exterior1st\",\n",
    "    \"Foundation\",\n",
    "    \"PavedDrive\",\n",
    "    \"SaleCondition\",\n",
    "    \"Heating\",\"MasVnrType\",\n",
    "    \"Electrical\",\n",
    "    \"GarageType\",\n",
    "    'MiscFeature'\n",
    "]"
   ]
  },
  {
   "cell_type": "code",
   "execution_count": 88,
   "id": "10d6093d-a21c-48e9-ae7f-ddadb003085c",
   "metadata": {},
   "outputs": [],
   "source": [
    "df_num = df.copy()\n",
    "\n",
    "# Removendo todos os atributos categóricos\n",
    "df_num.drop(values,axis=1,inplace=True)"
   ]
  },
  {
   "cell_type": "code",
   "execution_count": 89,
   "id": "abbf4c06-1b86-459a-b3a5-1ed42ac43924",
   "metadata": {},
   "outputs": [
    {
     "data": {
      "text/html": [
       "<div>\n",
       "<style scoped>\n",
       "    .dataframe tbody tr th:only-of-type {\n",
       "        vertical-align: middle;\n",
       "    }\n",
       "\n",
       "    .dataframe tbody tr th {\n",
       "        vertical-align: top;\n",
       "    }\n",
       "\n",
       "    .dataframe thead th {\n",
       "        text-align: right;\n",
       "    }\n",
       "</style>\n",
       "<table border=\"1\" class=\"dataframe\">\n",
       "  <thead>\n",
       "    <tr style=\"text-align: right;\">\n",
       "      <th></th>\n",
       "      <th>MSSubClass</th>\n",
       "      <th>LotFrontage</th>\n",
       "      <th>LotArea</th>\n",
       "      <th>Street</th>\n",
       "      <th>LotShape</th>\n",
       "      <th>Utilities</th>\n",
       "      <th>LandSlope</th>\n",
       "      <th>OverallQual</th>\n",
       "      <th>OverallCond</th>\n",
       "      <th>YearBuilt</th>\n",
       "      <th>...</th>\n",
       "      <th>GarageQual</th>\n",
       "      <th>WoodDeckSF</th>\n",
       "      <th>OpenPorchSF</th>\n",
       "      <th>EnclosedPorch</th>\n",
       "      <th>3SsnPorch</th>\n",
       "      <th>ScreenPorch</th>\n",
       "      <th>PoolArea</th>\n",
       "      <th>MiscVal</th>\n",
       "      <th>MoSold</th>\n",
       "      <th>YrSold</th>\n",
       "    </tr>\n",
       "  </thead>\n",
       "  <tbody>\n",
       "    <tr>\n",
       "      <th>0</th>\n",
       "      <td>20</td>\n",
       "      <td>80.0</td>\n",
       "      <td>11622</td>\n",
       "      <td>1</td>\n",
       "      <td>3</td>\n",
       "      <td>0.0</td>\n",
       "      <td>2</td>\n",
       "      <td>5</td>\n",
       "      <td>6</td>\n",
       "      <td>1961</td>\n",
       "      <td>...</td>\n",
       "      <td>3.0</td>\n",
       "      <td>140</td>\n",
       "      <td>0</td>\n",
       "      <td>0</td>\n",
       "      <td>0</td>\n",
       "      <td>120</td>\n",
       "      <td>0</td>\n",
       "      <td>0</td>\n",
       "      <td>6</td>\n",
       "      <td>2010</td>\n",
       "    </tr>\n",
       "    <tr>\n",
       "      <th>1</th>\n",
       "      <td>20</td>\n",
       "      <td>81.0</td>\n",
       "      <td>14267</td>\n",
       "      <td>1</td>\n",
       "      <td>2</td>\n",
       "      <td>0.0</td>\n",
       "      <td>2</td>\n",
       "      <td>6</td>\n",
       "      <td>6</td>\n",
       "      <td>1958</td>\n",
       "      <td>...</td>\n",
       "      <td>3.0</td>\n",
       "      <td>393</td>\n",
       "      <td>36</td>\n",
       "      <td>0</td>\n",
       "      <td>0</td>\n",
       "      <td>0</td>\n",
       "      <td>0</td>\n",
       "      <td>12500</td>\n",
       "      <td>6</td>\n",
       "      <td>2010</td>\n",
       "    </tr>\n",
       "    <tr>\n",
       "      <th>2</th>\n",
       "      <td>60</td>\n",
       "      <td>74.0</td>\n",
       "      <td>13830</td>\n",
       "      <td>1</td>\n",
       "      <td>2</td>\n",
       "      <td>0.0</td>\n",
       "      <td>2</td>\n",
       "      <td>5</td>\n",
       "      <td>5</td>\n",
       "      <td>1997</td>\n",
       "      <td>...</td>\n",
       "      <td>3.0</td>\n",
       "      <td>212</td>\n",
       "      <td>34</td>\n",
       "      <td>0</td>\n",
       "      <td>0</td>\n",
       "      <td>0</td>\n",
       "      <td>0</td>\n",
       "      <td>0</td>\n",
       "      <td>3</td>\n",
       "      <td>2010</td>\n",
       "    </tr>\n",
       "    <tr>\n",
       "      <th>3</th>\n",
       "      <td>60</td>\n",
       "      <td>78.0</td>\n",
       "      <td>9978</td>\n",
       "      <td>1</td>\n",
       "      <td>2</td>\n",
       "      <td>0.0</td>\n",
       "      <td>2</td>\n",
       "      <td>6</td>\n",
       "      <td>6</td>\n",
       "      <td>1998</td>\n",
       "      <td>...</td>\n",
       "      <td>3.0</td>\n",
       "      <td>360</td>\n",
       "      <td>36</td>\n",
       "      <td>0</td>\n",
       "      <td>0</td>\n",
       "      <td>0</td>\n",
       "      <td>0</td>\n",
       "      <td>0</td>\n",
       "      <td>6</td>\n",
       "      <td>2010</td>\n",
       "    </tr>\n",
       "    <tr>\n",
       "      <th>4</th>\n",
       "      <td>120</td>\n",
       "      <td>43.0</td>\n",
       "      <td>5005</td>\n",
       "      <td>1</td>\n",
       "      <td>2</td>\n",
       "      <td>0.0</td>\n",
       "      <td>2</td>\n",
       "      <td>8</td>\n",
       "      <td>5</td>\n",
       "      <td>1992</td>\n",
       "      <td>...</td>\n",
       "      <td>3.0</td>\n",
       "      <td>0</td>\n",
       "      <td>82</td>\n",
       "      <td>0</td>\n",
       "      <td>0</td>\n",
       "      <td>144</td>\n",
       "      <td>0</td>\n",
       "      <td>0</td>\n",
       "      <td>1</td>\n",
       "      <td>2010</td>\n",
       "    </tr>\n",
       "    <tr>\n",
       "      <th>...</th>\n",
       "      <td>...</td>\n",
       "      <td>...</td>\n",
       "      <td>...</td>\n",
       "      <td>...</td>\n",
       "      <td>...</td>\n",
       "      <td>...</td>\n",
       "      <td>...</td>\n",
       "      <td>...</td>\n",
       "      <td>...</td>\n",
       "      <td>...</td>\n",
       "      <td>...</td>\n",
       "      <td>...</td>\n",
       "      <td>...</td>\n",
       "      <td>...</td>\n",
       "      <td>...</td>\n",
       "      <td>...</td>\n",
       "      <td>...</td>\n",
       "      <td>...</td>\n",
       "      <td>...</td>\n",
       "      <td>...</td>\n",
       "      <td>...</td>\n",
       "    </tr>\n",
       "    <tr>\n",
       "      <th>1454</th>\n",
       "      <td>160</td>\n",
       "      <td>21.0</td>\n",
       "      <td>1936</td>\n",
       "      <td>1</td>\n",
       "      <td>3</td>\n",
       "      <td>0.0</td>\n",
       "      <td>2</td>\n",
       "      <td>4</td>\n",
       "      <td>7</td>\n",
       "      <td>1970</td>\n",
       "      <td>...</td>\n",
       "      <td>0.0</td>\n",
       "      <td>0</td>\n",
       "      <td>0</td>\n",
       "      <td>0</td>\n",
       "      <td>0</td>\n",
       "      <td>0</td>\n",
       "      <td>0</td>\n",
       "      <td>0</td>\n",
       "      <td>6</td>\n",
       "      <td>2006</td>\n",
       "    </tr>\n",
       "    <tr>\n",
       "      <th>1455</th>\n",
       "      <td>160</td>\n",
       "      <td>21.0</td>\n",
       "      <td>1894</td>\n",
       "      <td>1</td>\n",
       "      <td>3</td>\n",
       "      <td>0.0</td>\n",
       "      <td>2</td>\n",
       "      <td>4</td>\n",
       "      <td>5</td>\n",
       "      <td>1970</td>\n",
       "      <td>...</td>\n",
       "      <td>3.0</td>\n",
       "      <td>0</td>\n",
       "      <td>24</td>\n",
       "      <td>0</td>\n",
       "      <td>0</td>\n",
       "      <td>0</td>\n",
       "      <td>0</td>\n",
       "      <td>0</td>\n",
       "      <td>4</td>\n",
       "      <td>2006</td>\n",
       "    </tr>\n",
       "    <tr>\n",
       "      <th>1456</th>\n",
       "      <td>20</td>\n",
       "      <td>160.0</td>\n",
       "      <td>20000</td>\n",
       "      <td>1</td>\n",
       "      <td>3</td>\n",
       "      <td>0.0</td>\n",
       "      <td>2</td>\n",
       "      <td>5</td>\n",
       "      <td>7</td>\n",
       "      <td>1960</td>\n",
       "      <td>...</td>\n",
       "      <td>3.0</td>\n",
       "      <td>474</td>\n",
       "      <td>0</td>\n",
       "      <td>0</td>\n",
       "      <td>0</td>\n",
       "      <td>0</td>\n",
       "      <td>0</td>\n",
       "      <td>0</td>\n",
       "      <td>9</td>\n",
       "      <td>2006</td>\n",
       "    </tr>\n",
       "    <tr>\n",
       "      <th>1457</th>\n",
       "      <td>85</td>\n",
       "      <td>62.0</td>\n",
       "      <td>10441</td>\n",
       "      <td>1</td>\n",
       "      <td>3</td>\n",
       "      <td>0.0</td>\n",
       "      <td>2</td>\n",
       "      <td>5</td>\n",
       "      <td>5</td>\n",
       "      <td>1992</td>\n",
       "      <td>...</td>\n",
       "      <td>0.0</td>\n",
       "      <td>80</td>\n",
       "      <td>32</td>\n",
       "      <td>0</td>\n",
       "      <td>0</td>\n",
       "      <td>0</td>\n",
       "      <td>0</td>\n",
       "      <td>700</td>\n",
       "      <td>7</td>\n",
       "      <td>2006</td>\n",
       "    </tr>\n",
       "    <tr>\n",
       "      <th>1458</th>\n",
       "      <td>60</td>\n",
       "      <td>74.0</td>\n",
       "      <td>9627</td>\n",
       "      <td>1</td>\n",
       "      <td>3</td>\n",
       "      <td>0.0</td>\n",
       "      <td>1</td>\n",
       "      <td>7</td>\n",
       "      <td>5</td>\n",
       "      <td>1993</td>\n",
       "      <td>...</td>\n",
       "      <td>3.0</td>\n",
       "      <td>190</td>\n",
       "      <td>48</td>\n",
       "      <td>0</td>\n",
       "      <td>0</td>\n",
       "      <td>0</td>\n",
       "      <td>0</td>\n",
       "      <td>0</td>\n",
       "      <td>11</td>\n",
       "      <td>2006</td>\n",
       "    </tr>\n",
       "  </tbody>\n",
       "</table>\n",
       "<p>1459 rows × 54 columns</p>\n",
       "</div>"
      ],
      "text/plain": [
       "      MSSubClass  LotFrontage  LotArea  Street  LotShape  Utilities  \\\n",
       "0             20         80.0    11622       1         3        0.0   \n",
       "1             20         81.0    14267       1         2        0.0   \n",
       "2             60         74.0    13830       1         2        0.0   \n",
       "3             60         78.0     9978       1         2        0.0   \n",
       "4            120         43.0     5005       1         2        0.0   \n",
       "...          ...          ...      ...     ...       ...        ...   \n",
       "1454         160         21.0     1936       1         3        0.0   \n",
       "1455         160         21.0     1894       1         3        0.0   \n",
       "1456          20        160.0    20000       1         3        0.0   \n",
       "1457          85         62.0    10441       1         3        0.0   \n",
       "1458          60         74.0     9627       1         3        0.0   \n",
       "\n",
       "      LandSlope  OverallQual  OverallCond  YearBuilt  ...  GarageQual  \\\n",
       "0             2            5            6       1961  ...         3.0   \n",
       "1             2            6            6       1958  ...         3.0   \n",
       "2             2            5            5       1997  ...         3.0   \n",
       "3             2            6            6       1998  ...         3.0   \n",
       "4             2            8            5       1992  ...         3.0   \n",
       "...         ...          ...          ...        ...  ...         ...   \n",
       "1454          2            4            7       1970  ...         0.0   \n",
       "1455          2            4            5       1970  ...         3.0   \n",
       "1456          2            5            7       1960  ...         3.0   \n",
       "1457          2            5            5       1992  ...         0.0   \n",
       "1458          1            7            5       1993  ...         3.0   \n",
       "\n",
       "      WoodDeckSF  OpenPorchSF  EnclosedPorch  3SsnPorch  ScreenPorch  \\\n",
       "0            140            0              0          0          120   \n",
       "1            393           36              0          0            0   \n",
       "2            212           34              0          0            0   \n",
       "3            360           36              0          0            0   \n",
       "4              0           82              0          0          144   \n",
       "...          ...          ...            ...        ...          ...   \n",
       "1454           0            0              0          0            0   \n",
       "1455           0           24              0          0            0   \n",
       "1456         474            0              0          0            0   \n",
       "1457          80           32              0          0            0   \n",
       "1458         190           48              0          0            0   \n",
       "\n",
       "      PoolArea  MiscVal  MoSold  YrSold  \n",
       "0            0        0       6    2010  \n",
       "1            0    12500       6    2010  \n",
       "2            0        0       3    2010  \n",
       "3            0        0       6    2010  \n",
       "4            0        0       1    2010  \n",
       "...        ...      ...     ...     ...  \n",
       "1454         0        0       6    2006  \n",
       "1455         0        0       4    2006  \n",
       "1456         0        0       9    2006  \n",
       "1457         0      700       7    2006  \n",
       "1458         0        0      11    2006  \n",
       "\n",
       "[1459 rows x 54 columns]"
      ]
     },
     "metadata": {},
     "output_type": "display_data"
    }
   ],
   "source": [
    "# Visualizando o dataset para predição sem dados categóricos\n",
    "display(df_num)\n",
    "\n",
    "# Salvando o dataset para predição sem dados categóricos\n",
    "df_num.to_csv('numeric-test.csv',index=False)"
   ]
  },
  {
   "cell_type": "markdown",
   "id": "844fbd33-1c9f-4f82-80f1-4b924a35d089",
   "metadata": {},
   "source": [
    "## Conclusão"
   ]
  },
  {
   "cell_type": "markdown",
   "id": "42a5232f-a284-40f1-82ba-56dfb9994b58",
   "metadata": {},
   "source": [
    "Nesta parte realizamos a visualização dos dados, e entendmos como eles estão distribuidos, além disso sinalizamos os atributos que serão removidos de imediato e também foi explicado sucintamente como o pré-processamento do conjunto de dados iria ser realizado, além obviamente de chegar algumas propriedades dos dados"
   ]
  },
  {
   "cell_type": "code",
   "execution_count": null,
   "id": "976b4bcc-8197-4a11-aa27-00cff010e703",
   "metadata": {},
   "outputs": [],
   "source": []
  }
 ],
 "metadata": {
  "kernelspec": {
   "display_name": "Python 3 (ipykernel)",
   "language": "python",
   "name": "python3"
  },
  "language_info": {
   "codemirror_mode": {
    "name": "ipython",
    "version": 3
   },
   "file_extension": ".py",
   "mimetype": "text/x-python",
   "name": "python",
   "nbconvert_exporter": "python",
   "pygments_lexer": "ipython3",
   "version": "3.9.16"
  }
 },
 "nbformat": 4,
 "nbformat_minor": 5
}
